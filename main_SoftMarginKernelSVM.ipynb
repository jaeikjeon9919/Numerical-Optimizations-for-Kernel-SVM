{
 "cells": [
  {
   "cell_type": "code",
   "execution_count": 503,
   "metadata": {},
   "outputs": [
    {
     "data": {
      "text/plain": [
       "(<module 'Objective' from '/Users/jaeikjeon/CODE/2020/Numerical_Optimization/SVM_Project/Objective.py'>,\n",
       " <module 'helper_function' from '/Users/jaeikjeon/CODE/2020/Numerical_Optimization/SVM_Project/helper_function.py'>,\n",
       " <module 'Kernel_helper' from '/Users/jaeikjeon/CODE/2020/Numerical_Optimization/SVM_Project/Kernel_helper.py'>,\n",
       " <module 'Newton' from '/Users/jaeikjeon/CODE/2020/Numerical_Optimization/SVM_Project/Newton.py'>,\n",
       " <module 'Barrier' from '/Users/jaeikjeon/CODE/2020/Numerical_Optimization/SVM_Project/Barrier.py'>,\n",
       " <module 'Barrier_SVM' from '/Users/jaeikjeon/CODE/2020/Numerical_Optimization/SVM_Project/Barrier_SVM.py'>,\n",
       " <module 'SMO_SVM' from '/Users/jaeikjeon/CODE/2020/Numerical_Optimization/SVM_Project/SMO_SVM.py'>)"
      ]
     },
     "execution_count": 503,
     "metadata": {},
     "output_type": "execute_result"
    }
   ],
   "source": [
    "import Barrier, Objective, Newton, Barrier_SVM, helper_function, Kernel_helper, SMO_SVM\n",
    "reload(Objective), reload(helper_function), reload(Kernel_helper), reload(Newton), reload(Barrier), reload(Barrier_SVM), reload(SMO_SVM)"
   ]
  },
  {
   "cell_type": "code",
   "execution_count": 1,
   "metadata": {},
   "outputs": [],
   "source": [
    "from importlib import reload\n",
    "import numpy as np\n",
    "import matplotlib.pyplot as plt\n",
    "import tensorflow as tf\n",
    "\n",
    "from Objective import *\n",
    "from helper_function import *\n",
    "from Kernel_helper import *\n",
    "from Newton import *\n",
    "from Barrier import *\n",
    "from Barrier_SVM import *\n",
    "from SMO_SVM import *\n"
   ]
  },
  {
   "cell_type": "code",
   "execution_count": 505,
   "metadata": {},
   "outputs": [],
   "source": [
    "# Load the dataset (MNIST data)\n",
    "(x_train, y_train), (x_test, y_test) = tf.keras.datasets.mnist.load_data()"
   ]
  },
  {
   "cell_type": "code",
   "execution_count": 794,
   "metadata": {},
   "outputs": [],
   "source": [
    "# We first classify number 0 and 1\n",
    "first_label = 0\n",
    "second_label = 1\n",
    "\n",
    "N = 500 # number of data will be generated\n",
    "\n",
    "# Generate the data (labelled with -1 and 1)\n",
    "x, y = MNIST_ten_to_binary(x_train, y_train, x_test, y_test, first_label, second_label, N)\n",
    "\n",
    "# Generate the test set\n",
    "M = 100 # number of train set\n",
    "test_x, test_y = MNIST_ten_to_binary(x_train, y_train, x_test, y_test, first_label, second_label, M)"
   ]
  },
  {
   "cell_type": "code",
   "execution_count": 804,
   "metadata": {},
   "outputs": [
    {
     "data": {
      "image/png": "[encoded data removed]",
      "text/plain": [
       "<Figure size 360x144 with 50 Axes>"
      ]
     },
     "metadata": {
      "needs_background": "light"
     },
     "output_type": "display_data"
    }
   ],
   "source": [
    "plt.figure(figsize=(5, 2))\n",
    "for n in range(50):\n",
    "    plt.subplot(5, 10, n+1)\n",
    "    plt.imshow(test_x[n].reshape(28,28),\n",
    "               interpolation=\"None\",\n",
    "               cmap='gray')\n",
    "    plt.axis('off')\n",
    "plt.show()"
   ]
  },
  {
   "cell_type": "code",
   "execution_count": 860,
   "metadata": {},
   "outputs": [
    {
     "data": {
      "text/plain": [
       "(200, 1)"
      ]
     },
     "execution_count": 860,
     "metadata": {},
     "output_type": "execute_result"
    }
   ],
   "source": [
    "alpha_0 = ((y==-1) * np.count_nonzero(y==1) + (y==1) * np.count_nonzero(y==-1))/10000\n",
    "alpha_0 = alpha_0[np.newaxis]\n",
    "alpha_0 = alpha_0.T\n",
    "# alpha_0 = np.ones(len(y))[np.newaxis].T/100000\n",
    "alpha_0.shape"
   ]
  },
  {
   "cell_type": "code",
   "execution_count": 861,
   "metadata": {},
   "outputs": [],
   "source": [
    "gamma = 0.0000001 # RBF hyperparameter\n",
    "D = calc_D(x,y, gamma, \"RBF\")"
   ]
  },
  {
   "cell_type": "code",
   "execution_count": 862,
   "metadata": {},
   "outputs": [],
   "source": [
    "C = 0.1 # controls the balance between the margin and empirical loss\n",
    "F = f(alpha_0, D, C) # the objective function"
   ]
  },
  {
   "cell_type": "code",
   "execution_count": 889,
   "metadata": {},
   "outputs": [
    {
     "name": "stdout",
     "output_type": "stream",
     "text": [
      "Iter 2: f* = [[-68332570.44446298]]\n",
      "Iter 3: f* = [[-6.83533418e+11]]\n"
     ]
    }
   ],
   "source": [
    "# Line search hyperparameters\n",
    "rho = 0.5\n",
    "c = 1e-4 \n",
    "\n",
    "epsilon = 1e-7\n",
    "\n",
    "# Linear constraint matrix\n",
    "A = y.reshape(-1,1)\n",
    "\n",
    "newton = Centering_by_Newton(F, A.T, c, rho, epsilon)\n",
    "alpha, hist = Barrier(F, newton, 10000, len(y), 4, 1e-8) # solve for $\\alpha$"
   ]
  },
  {
   "cell_type": "code",
   "execution_count": 855,
   "metadata": {},
   "outputs": [
    {
     "name": "stdout",
     "output_type": "stream",
     "text": [
      "Iter 2: f* = [[-270876.55817478]]\n",
      "Iter 3: f* = [[-1088926.69763561]]\n",
      "Iter 4: f* = [[-4361127.25547893]]\n",
      "Iter 5: f* = [[-17449929.4868522]]\n",
      "Iter 6: f* = [[-69805138.41234526]]\n",
      "Iter 7: f* = [[-2.79225974e+08]]\n",
      "Iter 8: f* = [[-1.11690932e+09]]\n",
      "Iter 9: f* = [[-4.46764269e+09]]\n",
      "Iter 10: f* = [[-1.78705762e+10]]\n",
      "Iter 11: f* = [[-7.14823101e+10]]\n",
      "Iter 12: f* = [[-2.85929246e+11]]\n"
     ]
    }
   ],
   "source": [
    "alpha, hist = Barrier(F, newton, 10000, len(y), 4, 1e-8) # solve for $\\alpha$\n",
    "plt.plot(hist)"
   ]
  },
  {
   "cell_type": "code",
   "execution_count": 890,
   "metadata": {},
   "outputs": [
    {
     "name": "stdout",
     "output_type": "stream",
     "text": [
      "Training Accuracy of Binary SVM using Barrier method with RBF kernel = 0.995\n",
      "Test Accuracy of Binary SVM using Barrier method with RBF kernel = 1.0\n"
     ]
    }
   ],
   "source": [
    "barr_svm = Barrier_SVM_Classifier(alpha, D, x, y, gamma)\n",
    "print('Training Accuracy of Binary SVM using Barrier method with RBF kernel =', barr_svm.accuracy(x, y))\n",
    "print('Test Accuracy of Binary SVM using Barrier method with RBF kernel =', barr_svm.accuracy(test_x, test_y))"
   ]
  },
  {
   "cell_type": "code",
   "execution_count": 801,
   "metadata": {},
   "outputs": [
    {
     "name": "stdout",
     "output_type": "stream",
     "text": [
      "Training Accuracy of Binary SVM using Barrier method with RBF kernel = 1.0\n",
      "Test Accuracy of Binary SVM using Barrier method with RBF kernel = 1.0\n"
     ]
    }
   ],
   "source": [
    "print('Training Accuracy of Binary SVM using Barrier method with RBF kernel =', barr_svm.accuracy(x, y))\n",
    "print('Test Accuracy of Binary SVM using Barrier method with RBF kernel =', barr_svm.accuracy(test_x, test_y))"
   ]
  },
  {
   "cell_type": "code",
   "execution_count": 802,
   "metadata": {},
   "outputs": [
    {
     "name": "stdout",
     "output_type": "stream",
     "text": [
      "Training Accuracy of Binary SVM using Barrier method with Polynomial kernel = 1.0\n",
      "Test Accuracy of Binary SVM using Barrier method with Polynomial kernel = 1.0\n"
     ]
    }
   ],
   "source": [
    "print('Training Accuracy of Binary SVM using Barrier method with Polynomial kernel =', barr_svm.accuracy(x, y))\n",
    "print('Test Accuracy of Binary SVM using Barrier method with Polynomial kernel =', barr_svm.accuracy(test_x, test_y))"
   ]
  },
  {
   "cell_type": "code",
   "execution_count": 803,
   "metadata": {},
   "outputs": [
    {
     "data": {
      "text/plain": [
       "[<matplotlib.lines.Line2D at 0x639602c10>]"
      ]
     },
     "execution_count": 803,
     "metadata": {},
     "output_type": "execute_result"
    },
    {
     "data": {
      "image/png": "[encoded data removed]",
      "text/plain": [
       "<Figure size 432x288 with 1 Axes>"
      ]
     },
     "metadata": {
      "needs_background": "light"
     },
     "output_type": "display_data"
    }
   ],
   "source": [
    "plt.plot(hist)"
   ]
  },
  {
   "cell_type": "code",
   "execution_count": 750,
   "metadata": {},
   "outputs": [],
   "source": [
    "import SMO_SVM\n",
    "import Objective\n",
    "import Kernel_helper\n",
    "reload(SMO_SVM)\n",
    "reload(Objective)\n",
    "reload(Kernel_helper)\n",
    "from SMO_SVM import *\n",
    "from Kernel_helper import *\n",
    "from Objective import *"
   ]
  },
  {
   "cell_type": "code",
   "execution_count": 755,
   "metadata": {},
   "outputs": [],
   "source": [
    "C = 0.1 # controls the balance between the margin and empirical loss\n",
    "\n",
    "d = 2 # when kernel is Polynomial\n",
    "gamma = 0.0000001 # RBF hyperparameter\n",
    "\n",
    "# when kernel is RBF\n",
    "max_passes = 2\n",
    "\n",
    "kernel_set = [\"Polynomial\", \"RBF\"]"
   ]
  },
  {
   "cell_type": "code",
   "execution_count": 762,
   "metadata": {},
   "outputs": [],
   "source": [
    "kernel_type = kernel_set[1] # Choose the kernel\n",
    "\n",
    "if kernel_type == \"Polynomial\":\n",
    "    kernel_hyperparameter = 2\n",
    "elif kernel_type == \"RBF\":\n",
    "    kernel_hyperparameter = 0.000001"
   ]
  },
  {
   "cell_type": "code",
   "execution_count": 763,
   "metadata": {},
   "outputs": [],
   "source": [
    "D = calc_D(x, y, kernel_hyperparameter, kernel_type) # Calculate the matrix D\n",
    "\n",
    "F = f(alpha_0, D, C) # the objective function\n",
    "\n",
    "smo_svm = SMO_SVM_Classifier(F, x, y, kernel_hyperparameter, max_passes, C, kernel_type)"
   ]
  },
  {
   "cell_type": "code",
   "execution_count": 714,
   "metadata": {},
   "outputs": [
    {
     "name": "stdout",
     "output_type": "stream",
     "text": [
      "Iter 0: f* = [[0.]]\n",
      "Iter 1: f* = [[0.]]\n",
      "Iter 2: f* = [[0.]]\n",
      "Iter 3: f* = [[0.]]\n",
      "Iter 19: f* = [[-1.00564643]]\n",
      "Iter 45: f* = [[-1.00564643]]\n",
      "Iter 46: f* = [[-1.93107256]]\n",
      "Iter 84: f* = [[-2.90875735]]\n",
      "Iter 107: f* = [[-2.90875735]]\n",
      "Iter 108: f* = [[-3.56297557]]\n",
      "Iter 111: f* = [[-3.56297557]]\n",
      "Iter 112: f* = [[-3.56297557]]\n",
      "Iter 19: f* = [[-4.44949824]]\n",
      "Iter 21: f* = [[-4.97815038]]\n",
      "Iter 84: f* = [[-5.42161546]]\n",
      "Iter 85: f* = [[-5.79055266]]\n",
      "Iter 87: f* = [[-5.79055266]]\n",
      "-2.220446049250313e-16\n"
     ]
    },
    {
     "data": {
      "image/png": "[encoded data removed]",
      "text/plain": [
       "<Figure size 432x288 with 1 Axes>"
      ]
     },
     "metadata": {
      "needs_background": "light"
     },
     "output_type": "display_data"
    }
   ],
   "source": [
    "# RBF kernel with SMO\n",
    "smo_svm.train()\n",
    "smo_svm.plot_objective_value()"
   ]
  },
  {
   "cell_type": "code",
   "execution_count": 768,
   "metadata": {},
   "outputs": [
    {
     "name": "stdout",
     "output_type": "stream",
     "text": [
      "Training Accuracy of Binary SVM using simplified SMO method with RBF kernel = 0.995\n",
      "Test Accuracy of Binary SVM using simplfied SMO method with RBF kernel = 0.99\n"
     ]
    }
   ],
   "source": [
    "# RBF\n",
    "print('Training Accuracy of Binary SVM using simplified SMO method with RBF kernel =', smo_svm.accuracy(x, y))\n",
    "print('Test Accuracy of Binary SVM using simplfied SMO method with RBF kernel =', smo_svm.accuracy(test_x, test_y))"
   ]
  },
  {
   "cell_type": "code",
   "execution_count": 711,
   "metadata": {},
   "outputs": [
    {
     "name": "stdout",
     "output_type": "stream",
     "text": [
      "Iter 0: f* = [[0.]]\n",
      "Iter 3: f* = [[-2.18777708e-14]]\n",
      "Iter 154: f* = [[-5.89713002e-14]]\n",
      "Iter 161: f* = [[-8.54791059e-14]]\n",
      "Iter 165: f* = [[-8.54791059e-14]]\n",
      "0.0\n"
     ]
    },
    {
     "data": {
      "image/png": "[encoded data removed]",
      "text/plain": [
       "<Figure size 432x288 with 1 Axes>"
      ]
     },
     "metadata": {
      "needs_background": "light"
     },
     "output_type": "display_data"
    }
   ],
   "source": [
    "# Polynomial kernel with SMO\n",
    "smo_svm.train()\n",
    "smo_svm.plot_objective_value()"
   ]
  },
  {
   "cell_type": "code",
   "execution_count": 761,
   "metadata": {},
   "outputs": [
    {
     "name": "stdout",
     "output_type": "stream",
     "text": [
      "Training Accuracy of Binary SVM using simplified SMO method with Polynomial kernel = 1.0\n",
      "Test Accuracy of Binary SVM using simplfied SMO method with Polynomial kernel = 1.0\n"
     ]
    }
   ],
   "source": [
    "# Polynomial\n",
    "print('Training Accuracy of Binary SVM using simplified SMO method with Polynomial kernel =', smo_svm.accuracy(x, y))\n",
    "print('Test Accuracy of Binary SVM using simplfied SMO method with Polynomial kernel =', smo_svm.accuracy(test_x, test_y))"
   ]
  },
  {
   "cell_type": "code",
   "execution_count": null,
   "metadata": {},
   "outputs": [],
   "source": []
  },
  {
   "cell_type": "code",
   "execution_count": null,
   "metadata": {},
   "outputs": [],
   "source": []
  },
  {
   "cell_type": "code",
   "execution_count": null,
   "metadata": {},
   "outputs": [],
   "source": []
  },
  {
   "cell_type": "code",
   "execution_count": null,
   "metadata": {},
   "outputs": [],
   "source": []
  },
  {
   "cell_type": "code",
   "execution_count": null,
   "metadata": {},
   "outputs": [],
   "source": []
  },
  {
   "cell_type": "code",
   "execution_count": null,
   "metadata": {},
   "outputs": [],
   "source": []
  },
  {
   "cell_type": "code",
   "execution_count": 896,
   "metadata": {},
   "outputs": [
    {
     "name": "stdout",
     "output_type": "stream",
     "text": [
      "Iter 2: f* = [[-32094.06101746]]\n",
      "Iter 3: f* = [[-1705614.17603661]]\n",
      "Iter 4: f* = [[-85381619.92699407]]\n",
      "Iter 5: f* = [[-4.26918191e+09]]\n",
      "Iter 6: f* = [[-2.13459196e+11]]\n"
     ]
    },
    {
     "data": {
      "text/plain": [
       "[<matplotlib.lines.Line2D at 0x641025850>]"
      ]
     },
     "execution_count": 896,
     "metadata": {},
     "output_type": "execute_result"
    },
    {
     "data": {
      "image/png": "[encoded data removed]",
      "text/plain": [
       "<Figure size 432x288 with 1 Axes>"
      ]
     },
     "metadata": {
      "needs_background": "light"
     },
     "output_type": "display_data"
    }
   ],
   "source": [
    "alpha, hist = Barrier(F, newton, 100, len(y), 50, 1e-8) # solve for $\\alpha$\n",
    "plt.plot(hist)"
   ]
  },
  {
   "cell_type": "code",
   "execution_count": 898,
   "metadata": {},
   "outputs": [
    {
     "name": "stdout",
     "output_type": "stream",
     "text": [
      "Iter 2: f* = [[-681010.02398407]]\n",
      "Iter 3: f* = [[-6.83067375e+08]]\n",
      "Iter 4: f* = [[-6.83069433e+11]]\n"
     ]
    },
    {
     "data": {
      "text/plain": [
       "[<matplotlib.lines.Line2D at 0x64120a810>]"
      ]
     },
     "execution_count": 898,
     "metadata": {},
     "output_type": "execute_result"
    },
    {
     "data": {
      "image/png": "[encoded data removed]",
      "text/plain": [
       "<Figure size 432x288 with 1 Axes>"
      ]
     },
     "metadata": {
      "needs_background": "light"
     },
     "output_type": "display_data"
    }
   ],
   "source": [
    "alpha, hist = Barrier(F, newton, 100, len(y), 1000, 1e-8) # solve for $\\alpha$\n",
    "plt.plot(hist)"
   ]
  },
  {
   "cell_type": "code",
   "execution_count": 900,
   "metadata": {},
   "outputs": [
    {
     "data": {
      "image/png": "[encoded data removed]",
      "text/plain": [
       "<Figure size 360x144 with 50 Axes>"
      ]
     },
     "metadata": {
      "needs_background": "light"
     },
     "output_type": "display_data"
    }
   ],
   "source": [
    "plt.figure(figsize=(5, 2))\n",
    "for n in range(50):\n",
    "    plt.subplot(5, 10, n+1)\n",
    "    plt.imshow(x_train[n],\n",
    "               interpolation=\"None\",\n",
    "               cmap='gray')\n",
    "    plt.axis('off')\n",
    "plt.show()"
   ]
  },
  {
   "cell_type": "code",
   "execution_count": null,
   "metadata": {},
   "outputs": [],
   "source": []
  }
 ],
 "metadata": {
  "kernelspec": {
   "display_name": "Python 3",
   "language": "python",
   "name": "python3"
  },
  "language_info": {
   "codemirror_mode": {
    "name": "ipython",
    "version": 3
   },
   "file_extension": ".py",
   "mimetype": "text/x-python",
   "name": "python",
   "nbconvert_exporter": "python",
   "pygments_lexer": "ipython3",
   "version": "3.7.4"
  }
 },
 "nbformat": 4,
 "nbformat_minor": 4
}
