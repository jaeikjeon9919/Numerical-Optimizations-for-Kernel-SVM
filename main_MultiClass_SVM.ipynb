{
 "cells": [
  {
   "cell_type": "code",
   "execution_count": 3,
   "metadata": {},
   "outputs": [],
   "source": [
    "import numpy as np\n",
    "import random\n",
    "from matplotlib import pyplot as plt\n",
    "from collections import Counter\n",
    "import tensorflow as tf\n"
   ]
  },
  {
   "cell_type": "code",
   "execution_count": 8,
   "metadata": {},
   "outputs": [],
   "source": [
    "# Load the dataset (MNIST data)\n",
    "data = np.loadtxt(\"zipcombo.dat.txt\")"
   ]
  },
  {
   "cell_type": "code",
   "execution_count": 9,
   "metadata": {},
   "outputs": [],
   "source": [
    "# define binary kernel svm\n",
    "\n",
    "def kernel(x, x_prime, d):\n",
    "    x_prime = (x_prime).reshape(len(x_prime),1)\n",
    "    zero_mat = np.matmul(x, x_prime)**d\n",
    "    return zero_mat\n",
    "\n",
    "def prediction(x, x_prime, d, alpha, y, b):\n",
    "    cal_kernel = kernel(x, x_prime, d)\n",
    "    cal_kernel = cal_kernel.reshape(len(cal_kernel),1)\n",
    "    alpha = alpha.reshape(len(alpha),1)\n",
    "    y = y.reshape(len(y), 1)\n",
    "    \n",
    "    prediction = np.sign(np.matmul((alpha * y).T, cal_kernel) + b)\n",
    "    return prediction[0][0]\n",
    "\n",
    "def train_svm(X, y, epochs, d, max_passes, C=1):\n",
    "    n = len(X[:,0])\n",
    "    alpha = np.zeros((n))\n",
    "    b = 0\n",
    "    \n",
    "    passes = 0\n",
    "    while (passes < max_passes):\n",
    "        num_changed_alphas = 0\n",
    "        prev_alpha = alpha.copy()\n",
    "        for i in range(n):\n",
    "            x_i,  y_i= X[i,:],  y[i]\n",
    "            E_i = prediction(X, x_i, d, alpha, y, b) - y_i\n",
    "            if ((y_i * E_i < -0.005) and (alpha[i] < C)) or ((y_i * E_i > 0.005) and (alpha[i] > 0)):\n",
    "                j = random.randint(0,n-1)\n",
    "                while i == j:\n",
    "                    j=random.randint(1,n-1)\n",
    "                x_j, y_j =  X[j,:], y[j]\n",
    "                E_j = prediction(X, x_j, d, alpha, y, b) - y_j\n",
    "\n",
    "                old_alpha_i, old_alpha_j = alpha[i].copy(), alpha[j].copy()\n",
    "\n",
    "                if y_i == y_j:\n",
    "                    L , H = max(0, old_alpha_i + old_alpha_j - C), min(C, old_alpha_i + old_alpha_j)\n",
    "                else:\n",
    "                    L , H = max(0, old_alpha_i - old_alpha_j), min(C, C + old_alpha_i - old_alpha_j)\n",
    "                if L == H:\n",
    "                    continue\n",
    "\n",
    "                eta =  2 * np.dot(x_i, x_j)**d - np.dot(x_i, x_i)**d - np.dot(x_j, x_j)**d\n",
    "                if eta >= 0:\n",
    "                    continue        \n",
    "\n",
    "\n",
    "                alpha[j] -= float(y_j * (E_i - E_j))/eta\n",
    "                if alpha[j] > H:\n",
    "                    alpha[j] == H\n",
    "                elif L <= alpha[j] <= H:\n",
    "                    alpha[j] = alpha[j]\n",
    "                elif alpha[j] < L:\n",
    "                    alpha[j] = L\n",
    "\n",
    "                alpha[i] += y_i*y_j * (old_alpha_j - alpha[j])\n",
    "\n",
    "                b1 = b - E_i - y_i * (alpha[i] - old_alpha_i) * np.dot(x_i, x_i)**d - y_j * (alpha[j] - old_alpha_j) * np.dot(x_i, x_j)**d\n",
    "                b2 = b - E_j - y_i * (alpha[i] - old_alpha_i) * np.dot(x_i, x_j)**d - y_j * (alpha[j] - old_alpha_j) * np.dot(x_j, x_j)**d\n",
    "\n",
    "                if 0 < alpha[i] and C > alpha[i]:\n",
    "                    b = b1\n",
    "                elif 0 < alpha[j] and C > alpha[j]:\n",
    "                    b = b2\n",
    "                else:\n",
    "                    b = (b1 + b2) / 2.0\n",
    "                    \n",
    "                num_changed_alphas += 1\n",
    "        if num_changed_alphas == 0:\n",
    "            passes += 1\n",
    "        else:\n",
    "            passes = 0\n",
    "    return alpha, b"
   ]
  },
  {
   "cell_type": "code",
   "execution_count": 10,
   "metadata": {},
   "outputs": [],
   "source": [
    "def Most_Common(lst):\n",
    "    data = Counter(lst)\n",
    "    return data.most_common(1)[0][0]\n",
    "\n",
    "def onevsone(data, d, data_test, max_passes = 100):\n",
    "    data_copy = data.copy()\n",
    "    data_test_copy = data_test.copy()\n",
    "    data_list = []\n",
    "    data_test_list = []\n",
    "    combinations = []\n",
    "    for index, item in enumerate(np.arange(10), 0):\n",
    "        temp = (np.arange(9)[index:])\n",
    "        for i in temp:\n",
    "            combinations.append([index, i+1])\n",
    "    \n",
    "    for i in range(45):\n",
    "        first = combinations[i][0]\n",
    "        second = combinations[i][1]\n",
    "\n",
    "\n",
    "        data_temp1 = (data_copy[data_copy[:,0] == first])\n",
    "        data_temp2 = (data_copy[data_copy[:,0] == second])\n",
    "        data_temp_2 = np.vstack((data_temp1, data_temp2))        \n",
    "        np.random.shuffle(data_temp_2)\n",
    "        \n",
    "        data_temp_2[:,0][data_temp_2[:,0] == first] = -1\n",
    "        data_temp_2[:,0][data_temp_2[:,0] == second] = 1\n",
    "        \n",
    "        data_list.append(data_temp_2)\n",
    "\n",
    "        \n",
    "    vote_list = np.zeros((45, len(data_test[:,0])))\n",
    "\n",
    "    for i in range(45):\n",
    "        print(combinations[i])\n",
    "        x, y = data_list[i][:,1:], data_list[i][:,0]\n",
    "        x_test, y_test = data_test[:, 1:], data_test[:,0]\n",
    "        \n",
    "        output = train_svm(x, y, 10, d, 100)\n",
    "        \n",
    "        test = []\n",
    "        for j in range(len(y_test)):\n",
    "            test.append(prediction(x, x_test[j], d, output[0], y, output[1]))\n",
    "        test = np.array(test)\n",
    "        idx_1 = (test == -1.0)\n",
    "        idx_2 = (test == 1.0)\n",
    "        test[idx_1] = combinations[i][0]\n",
    "        test[idx_2] = combinations[i][1]\n",
    "        vote_list[i,:] = test\n",
    "\n",
    "    return vote_list"
   ]
  },
  {
   "cell_type": "code",
   "execution_count": 33,
   "metadata": {},
   "outputs": [
    {
     "name": "stdout",
     "output_type": "stream",
     "text": [
      "[0, 1]\n",
      "[0, 2]\n",
      "[0, 3]\n",
      "[0, 4]\n",
      "[0, 5]\n",
      "[0, 6]\n",
      "[0, 7]\n",
      "[0, 8]\n",
      "[0, 9]\n",
      "[1, 2]\n",
      "[1, 3]\n",
      "[1, 4]\n",
      "[1, 5]\n",
      "[1, 6]\n",
      "[1, 7]\n",
      "[1, 8]\n",
      "[1, 9]\n",
      "[2, 3]\n",
      "[2, 4]\n",
      "[2, 5]\n",
      "[2, 6]\n",
      "[2, 7]\n",
      "[2, 8]\n",
      "[2, 9]\n",
      "[3, 4]\n",
      "[3, 5]\n",
      "[3, 6]\n",
      "[3, 7]\n",
      "[3, 8]\n",
      "[3, 9]\n",
      "[4, 5]\n",
      "[4, 6]\n",
      "[4, 7]\n",
      "[4, 8]\n",
      "[4, 9]\n",
      "[5, 6]\n",
      "[5, 7]\n",
      "[5, 8]\n",
      "[5, 9]\n",
      "[6, 7]\n",
      "[6, 8]\n",
      "[6, 9]\n",
      "[7, 8]\n",
      "[7, 9]\n",
      "[8, 9]\n"
     ]
    }
   ],
   "source": [
    "output = (onevsone(data[0:2000], 2, data[2000:2500]))"
   ]
  },
  {
   "cell_type": "code",
   "execution_count": 34,
   "metadata": {},
   "outputs": [],
   "source": [
    "test = []\n",
    "for i in range(len(output[0,:])):\n",
    "    test.append(Most_Common(output[:,i]))"
   ]
  },
  {
   "cell_type": "code",
   "execution_count": 35,
   "metadata": {},
   "outputs": [
    {
     "data": {
      "text/plain": [
       "0.078"
      ]
     },
     "execution_count": 35,
     "metadata": {},
     "output_type": "execute_result"
    }
   ],
   "source": [
    "np.sum(np.array(test) !=  np.array(data[2000:2500, 0]))/len(data[2000:2500, 0])"
   ]
  },
  {
   "cell_type": "code",
   "execution_count": 37,
   "metadata": {},
   "outputs": [
    {
     "name": "stdout",
     "output_type": "stream",
     "text": [
      "Test Accuracy:  0.922\n"
     ]
    }
   ],
   "source": [
    "print(\"Test Accuracy: \", 1-0.078)"
   ]
  },
  {
   "cell_type": "code",
   "execution_count": null,
   "metadata": {},
   "outputs": [],
   "source": []
  }
 ],
 "metadata": {
  "kernelspec": {
   "display_name": "Python 3",
   "language": "python",
   "name": "python3"
  },
  "language_info": {
   "codemirror_mode": {
    "name": "ipython",
    "version": 3
   },
   "file_extension": ".py",
   "mimetype": "text/x-python",
   "name": "python",
   "nbconvert_exporter": "python",
   "pygments_lexer": "ipython3",
   "version": "3.7.4"
  }
 },
 "nbformat": 4,
 "nbformat_minor": 4
}
