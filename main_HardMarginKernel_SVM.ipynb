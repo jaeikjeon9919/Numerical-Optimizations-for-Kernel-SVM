{
 "cells": [
  {
   "cell_type": "code",
   "execution_count": 1,
   "metadata": {},
   "outputs": [],
   "source": [
    "from importlib import reload\n",
    "import numpy as np\n",
    "import matplotlib.pyplot as plt\n",
    "import tensorflow as tf\n",
    "\n",
    "from Objective import *\n",
    "from helper_function import *\n",
    "from Kernel_helper import *\n",
    "from Newton import *\n",
    "from Barrier import *\n",
    "from Barrier_SVM import *\n",
    "from SMO_SVM import *\n",
    "\n"
   ]
  },
  {
   "cell_type": "code",
   "execution_count": 2,
   "metadata": {},
   "outputs": [],
   "source": [
    "# Load the dataset (MNIST data)\n",
    "(x_train, y_train), (x_test, y_test) = tf.keras.datasets.mnist.load_data()"
   ]
  },
  {
   "cell_type": "code",
   "execution_count": 136,
   "metadata": {},
   "outputs": [],
   "source": [
    "# We first classify number 0 and 1\n",
    "first_label = 0\n",
    "second_label = 1\n",
    "\n",
    "N = 500 # number of data will be generated\n",
    "\n",
    "# Generate the data (labelled with -1 and 1)\n",
    "x, y = MNIST_ten_to_binary(x_train, y_train, x_test, y_test, first_label, second_label, N)\n",
    "\n",
    "# Generate the test set\n",
    "M = 100 # number of train set\n",
    "test_x, test_y = MNIST_ten_to_binary(x_train, y_train, x_test, y_test, first_label, second_label, M)"
   ]
  },
  {
   "cell_type": "code",
   "execution_count": 137,
   "metadata": {},
   "outputs": [
    {
     "data": {
      "text/plain": [
       "(500, 1)"
      ]
     },
     "execution_count": 137,
     "metadata": {},
     "output_type": "execute_result"
    }
   ],
   "source": [
    "alpha_0 = ((y==-1) * np.count_nonzero(y==1) + (y==1) * np.count_nonzero(y==-1))/10000\n",
    "alpha_0 = alpha_0[np.newaxis]\n",
    "alpha_0 = alpha_0.T\n",
    "# alpha_0 = np.ones(len(y))[np.newaxis].T/100000\n",
    "alpha_0.shape"
   ]
  },
  {
   "cell_type": "code",
   "execution_count": 138,
   "metadata": {},
   "outputs": [],
   "source": [
    "gamma = 0.0000001 # RBF hyperparameter\n",
    "D = calc_D(x,y, gamma, \"RBF\")"
   ]
  },
  {
   "cell_type": "code",
   "execution_count": 145,
   "metadata": {},
   "outputs": [],
   "source": [
    "C = 10000000 # controls the balance between the margin and empirical loss\n",
    "F = f(alpha_0, D, C) # the objective function"
   ]
  },
  {
   "cell_type": "code",
   "execution_count": 146,
   "metadata": {},
   "outputs": [
    {
     "name": "stdout",
     "output_type": "stream",
     "text": [
      "Iter 2: f* = [[-810617.47777197]]\n",
      "Iter 3: f* = [[-3226150.08996296]]\n",
      "Iter 4: f* = [[-12888280.53872693]]\n",
      "Iter 5: f* = [[-51536802.33378278]]\n",
      "Iter 6: f* = [[-2.0613089e+08]]\n",
      "Iter 7: f* = [[-8.24507238e+08]]\n",
      "Iter 8: f* = [[-3.29801263e+09]]\n",
      "Iter 9: f* = [[-1.31920342e+10]]\n",
      "Iter 10: f* = [[-5.27681205e+10]]\n",
      "Iter 11: f* = [[-2.11072466e+11]]\n",
      "Iter 12: f* = [[-8.44289847e+11]]\n",
      "Iter 13: f* = [[-3.37715937e+12]]\n"
     ]
    }
   ],
   "source": [
    "# Line search hyperparameters\n",
    "rho = 0.5\n",
    "c = 1e-4 \n",
    "\n",
    "epsilon = 1e-7\n",
    "\n",
    "# Linear constraint matrix\n",
    "A = y.reshape(-1,1)\n",
    "\n",
    "newton = Centering_by_Newton(F, A.T, c, rho, epsilon)\n",
    "alpha, hist = Barrier(F, newton, 10000, len(y), 4, 1e-8) # solve for $\\alpha$"
   ]
  },
  {
   "cell_type": "code",
   "execution_count": 147,
   "metadata": {},
   "outputs": [
    {
     "name": "stdout",
     "output_type": "stream",
     "text": [
      "Training Accuracy of Binary SVM using Barrier method with RBF kernel = 0.994\n",
      "Test Accuracy of Binary SVM using Barrier method with RBF kernel = 0.99\n"
     ]
    }
   ],
   "source": [
    "barr_svm = Barrier_SVM_Classifier(alpha, D, x, y, gamma)\n",
    "print('Training Accuracy of Binary SVM using Barrier method with RBF kernel =', barr_svm.accuracy(x, y))\n",
    "print('Test Accuracy of Binary SVM using Barrier method with RBF kernel =', barr_svm.accuracy(test_x, test_y))"
   ]
  },
  {
   "cell_type": "code",
   "execution_count": 149,
   "metadata": {},
   "outputs": [
    {
     "data": {
      "text/plain": [
       "[<matplotlib.lines.Line2D at 0x63ff60a10>]"
      ]
     },
     "execution_count": 149,
     "metadata": {},
     "output_type": "execute_result"
    },
    {
     "data": {
      "image/png": "[encoded data removed]",
      "text/plain": [
       "<Figure size 432x288 with 1 Axes>"
      ]
     },
     "metadata": {
      "needs_background": "light"
     },
     "output_type": "display_data"
    }
   ],
   "source": [
    "plt.plot(hist)"
   ]
  },
  {
   "cell_type": "code",
   "execution_count": 148,
   "metadata": {},
   "outputs": [],
   "source": [
    "import SMO_SVM\n",
    "import Objective\n",
    "import Kernel_helper\n",
    "reload(SMO_SVM)\n",
    "reload(Objective)\n",
    "reload(Kernel_helper)\n",
    "from SMO_SVM import *\n",
    "from Kernel_helper import *\n",
    "from Objective import *"
   ]
  },
  {
   "cell_type": "code",
   "execution_count": 175,
   "metadata": {},
   "outputs": [],
   "source": [
    "C = 10000000 # controls the balance between the margin and empirical loss\n",
    "\n",
    "d = 1 # when kernel is Polynomial\n",
    "gamma = 0.0000001 # RBF hyperparameter\n",
    "\n",
    "# when kernel is RBF\n",
    "max_passes = 2\n",
    "\n",
    "kernel_set = [\"Polynomial\", \"RBF\"]"
   ]
  },
  {
   "cell_type": "code",
   "execution_count": 176,
   "metadata": {},
   "outputs": [],
   "source": [
    "kernel_type = kernel_set[1] # Choose the kernel\n",
    "\n",
    "if kernel_type == \"Polynomial\":\n",
    "    kernel_hyperparameter = 1\n",
    "elif kernel_type == \"RBF\":\n",
    "    kernel_hyperparameter = 0.000001"
   ]
  },
  {
   "cell_type": "code",
   "execution_count": 163,
   "metadata": {},
   "outputs": [],
   "source": [
    "D = calc_D(x, y, kernel_hyperparameter, kernel_type) # Calculate the matrix D\n",
    "\n",
    "F = f(alpha_0, D, C) # the objective function\n",
    "\n",
    "smo_svm = SMO_SVM_Classifier(F, x, y, kernel_hyperparameter, max_passes, C, kernel_type)"
   ]
  },
  {
   "cell_type": "code",
   "execution_count": 173,
   "metadata": {},
   "outputs": [
    {
     "name": "stdout",
     "output_type": "stream",
     "text": [
      "Iter 0: f* = [[0.]]\n",
      "Iter 1: f* = [[0.]]\n",
      "Iter 2: f* = [[0.]]\n",
      "Iter 12: f* = [[-1.00028953]]\n",
      "Iter 13: f* = [[-1.495151]]\n",
      "Iter 15: f* = [[-1.495151]]\n",
      "Iter 42: f* = [[-1.76373366]]\n",
      "Iter 54: f* = [[-1.76373366]]\n",
      "Iter 99: f* = [[-1.76373366]]\n",
      "Iter 139: f* = [[-1.76373366]]\n",
      "Iter 154: f* = [[-1.76373366]]\n",
      "Iter 206: f* = [[-1.76373366]]\n",
      "Iter 207: f* = [[-2.10540075]]\n",
      "Iter 208: f* = [[-2.10540075]]\n",
      "Iter 210: f* = [[-2.10540075]]\n",
      "Iter 235: f* = [[-1.69293705]]\n",
      "Iter 278: f* = [[-1.69293705]]\n",
      "Iter 279: f* = [[-2.59244378]]\n",
      "Iter 329: f* = [[-2.77888872]]\n",
      "Iter 420: f* = [[-2.77888872]]\n",
      "Iter 486: f* = [[-2.77888872]]\n",
      "Iter 489: f* = [[-3.53797518]]\n",
      "Iter 491: f* = [[-3.53797518]]\n",
      "Iter 493: f* = [[-3.53797518]]\n",
      "Iter 494: f* = [[-3.53797518]]\n",
      "Iter 235: f* = [[-3.59604414]]\n",
      "Iter 236: f* = [[-4.24729144]]\n",
      "Iter 237: f* = [[-4.24729144]]\n",
      "-2.220446049250313e-16\n"
     ]
    },
    {
     "data": {
      "image/png": "[encoded data removed]",
      "text/plain": [
       "<Figure size 432x288 with 1 Axes>"
      ]
     },
     "metadata": {
      "needs_background": "light"
     },
     "output_type": "display_data"
    }
   ],
   "source": [
    "# RBF kernel with SMO\n",
    "smo_svm.train()\n",
    "smo_svm.plot_objective_value()"
   ]
  },
  {
   "cell_type": "code",
   "execution_count": 174,
   "metadata": {},
   "outputs": [
    {
     "name": "stdout",
     "output_type": "stream",
     "text": [
      "Training Accuracy of Binary SVM using simplified SMO method with RBF kernel = 1.0\n",
      "Test Accuracy of Binary SVM using simplfied SMO method with RBF kernel = 0.98\n"
     ]
    }
   ],
   "source": [
    "# RBF\n",
    "print('Training Accuracy of Binary SVM using simplified SMO method with RBF kernel =', smo_svm.accuracy(x, y))\n",
    "print('Test Accuracy of Binary SVM using simplfied SMO method with RBF kernel =', smo_svm.accuracy(test_x, test_y))"
   ]
  },
  {
   "cell_type": "code",
   "execution_count": null,
   "metadata": {},
   "outputs": [],
   "source": []
  }
 ],
 "metadata": {
  "kernelspec": {
   "display_name": "Python 3",
   "language": "python",
   "name": "python3"
  },
  "language_info": {
   "codemirror_mode": {
    "name": "ipython",
    "version": 3
   },
   "file_extension": ".py",
   "mimetype": "text/x-python",
   "name": "python",
   "nbconvert_exporter": "python",
   "pygments_lexer": "ipython3",
   "version": "3.7.4"
  }
 },
 "nbformat": 4,
 "nbformat_minor": 4
}
